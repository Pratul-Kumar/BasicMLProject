{
 "cells": [
  {
   "cell_type": "code",
   "execution_count": 2,
   "id": "68e67838",
   "metadata": {},
   "outputs": [
    {
     "name": "stdout",
     "output_type": "stream",
     "text": [
      "User Similarity Matrix:\n",
      "          User1     User2     User3     User4\n",
      "User1  1.000000  0.624695  0.000000  0.186248\n",
      "User2  0.624695  1.000000  0.374817  0.447214\n",
      "User3  0.000000  0.374817  1.000000  0.931240\n",
      "User4  0.186248  0.447214  0.931240  1.000000\n"
     ]
    }
   ],
   "source": [
    "import pandas as pd\n",
    "from sklearn.metrics.pairwise import cosine_similarity\n",
    "\n",
    "# Sample user-movie rating matrix\n",
    "data = {\n",
    "    'Movie1': [5, 4, 0, 0],\n",
    "    'Movie2': [4, 0, 0, 2],\n",
    "    'Movie3': [0, 0, 5, 4],\n",
    "    'Movie4': [0, 3, 4, 5]\n",
    "}\n",
    "df = pd.DataFrame(data, index=['User1', 'User2', 'User3', 'User4'])\n",
    "similarity = cosine_similarity(df)\n",
    "\n",
    "print(\"User Similarity Matrix:\")\n",
    "print(pd.DataFrame(similarity, index=df.index, columns=df.index))\n"
   ]
  }
 ],
 "metadata": {
  "kernelspec": {
   "display_name": ".venv",
   "language": "python",
   "name": "python3"
  },
  "language_info": {
   "codemirror_mode": {
    "name": "ipython",
    "version": 3
   },
   "file_extension": ".py",
   "mimetype": "text/x-python",
   "name": "python",
   "nbconvert_exporter": "python",
   "pygments_lexer": "ipython3",
   "version": "3.13.3"
  }
 },
 "nbformat": 4,
 "nbformat_minor": 5
}
